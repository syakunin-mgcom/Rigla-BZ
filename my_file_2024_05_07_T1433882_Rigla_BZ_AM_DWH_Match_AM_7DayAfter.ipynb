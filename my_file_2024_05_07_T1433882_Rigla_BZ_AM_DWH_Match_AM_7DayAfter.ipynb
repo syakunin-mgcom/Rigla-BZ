{
 "cells": [
  {
   "cell_type": "code",
   "execution_count": 3,
   "id": "1b559dff",
   "metadata": {},
   "outputs": [],
   "source": [
    "# https://pf.mgcom.ru/task/1433882"
   ]
  },
  {
   "cell_type": "code",
   "execution_count": 5,
   "id": "cfe2293b",
   "metadata": {},
   "outputs": [],
   "source": [
    "import pandas as pd\n",
    "import numpy as np\n",
    "import os\n",
    "from datetime import datetime, timedelta\n",
    "from decimal import Decimal"
   ]
  },
  {
   "cell_type": "code",
   "execution_count": 6,
   "id": "c5a64498",
   "metadata": {},
   "outputs": [],
   "source": [
    "#AM Orders For Matching\n",
    "PATH_AM_ORDERS_FOR_MATCHING = r'C:\\Rigla_BZ\\2024_June\\2024-06-09\\Output AM\\2024-06-11_170458_am_orders_for_dwh_matching_2024-06-01__2024-06-09.csv'\n",
    "\n",
    "#DWH перед этим пересохранить файлы двх клиента, изменить источник файла на юникод utf-8 и разделитель - запятая\n",
    "DWH_START_DATE = '2024-06-01'\n",
    "DWH_END_DATE = '2024-06-09'\n",
    "PATH_DWH_BZ = r'C:\\Rigla_BZ\\2024_June\\2024-06-09\\DWH\\DWH_bz_june1-09.csv'\n",
    "PATH_DWH_RIGLA = r'C:\\Rigla_BZ\\2024_June\\2024-06-09\\DWH\\DWH_rigla_june1-9.csv'\n",
    "\n",
    "#OUTPUT\n",
    "PATH_OUTPUT = r'C:\\Rigla_BZ\\2024_June\\2024-06-09\\Output dwh-am'"
   ]
  },
  {
   "cell_type": "code",
   "execution_count": 7,
   "id": "8255ab49",
   "metadata": {},
   "outputs": [],
   "source": [
    "def save_df_to_csv(df, dir_to_save, name):\n",
    "    ts = datetime.now().strftime(\"%Y-%m-%d_%H%M%S\")\n",
    "    file_name = ts + '_' + name + '.csv'\n",
    "    if not os.path.exists(dir_to_save):\n",
    "        os.makedirs(dir_to_save)\n",
    "    csv_path = os.path.join(os.path.normpath(dir_to_save), file_name)\n",
    "    df.to_csv(csv_path, index=False, sep=';', decimal=',')\n",
    "    print(f\"{datetime.now().strftime('%Y-%m-%d %H:%M:%S')}: dataFrame saved to {csv_path}\")\n",
    "    return\n",
    "\n",
    "def print_ts(message):\n",
    "    print(\"{ts}: {message}\".format(ts=datetime.now().strftime('%Y-%m-%d %H:%M:%S'), message=message))\n",
    "    return\n",
    "\n",
    "# Выставляем флаги условий\n",
    "def set_conditions(xdf):\n",
    "    print_ts('Выставляем флаги условий')\n",
    "    df = xdf.copy(deep=True)\n",
    "    \n",
    "    # Условия\n",
    "    cond_1 = df['dwh_order_id']==df['order_id']\n",
    "    # Используется диапазон дат\n",
    "    cond_2 = (df['dwh_am_diff_days']>=-7) & (df['dwh_am_diff_days']<=0)\n",
    "    cond_3 = df['dwh_order_sum']==df['total']\n",
    "    cond_4 = df['is_reinstallation']=='true'\n",
    "\n",
    "    # DWH совпадает с AM по Order ID\n",
    "    df['dwh_am_order_id_equal'] = np.where(cond_1, 1, 0)\n",
    "\n",
    "    # DWH совпадает с AM по Order ID и Дате\n",
    "    df['dwh_am_order_id_date_equal'] = np.where(cond_1 & cond_2, 1, 0)\n",
    "\n",
    "    # DWH совпадает с AM по Order ID и Сумме\n",
    "    df['dwh_am_order_id_sum_equal'] = np.where(cond_1 & cond_3, 1, 0)\n",
    "\n",
    "    # DWH совпадает с AM по Order ID, Дате и Сумме\n",
    "    df['dwh_am_order_id_date_sum_equal'] = np.where(cond_1 & cond_2 & cond_3, 1, 0)\n",
    "    \n",
    "    df['am_is_reinstallation'] = np.where(cond_4, 1, 0)\n",
    "    df['dwh_am_order_id_equal__am_is_reinstallation'] = np.where(cond_1 & cond_4, 1, 0)\n",
    "    df['dwh_am_order_id_date_equal__am_is_reinstallation'] = np.where(cond_1 & cond_2 & cond_4, 1, 0)\n",
    "    df['dwh_am_order_id_sum_equal__am_is_reinstallation'] = np.where(cond_1 & cond_3 & cond_4, 1, 0)\n",
    "    df['dwh_am_order_id_date_sum_equal__am_is_reinstallation'] = np.where(cond_1 & cond_2 & cond_3 & cond_4, 1, 0)\n",
    "    print_ts('OK!')\n",
    "    return df\n",
    "\n",
    "def try_decimal(x):    \n",
    "    try:\n",
    "        y = Decimal(x)\n",
    "    except:\n",
    "        y = Decimal('0')\n",
    "    return y     \n",
    "\n",
    "# Наивная валидация датф по формату и году\n",
    "def validate_dates(xdate, date_format):\n",
    "    try:\n",
    "        date = datetime.strptime(xdate, date_format)\n",
    "        valid = True if date.year == 2024 else False\n",
    "    except:\n",
    "        valid = False\n",
    "    return valid\n",
    "\n",
    "# Подготавливаем данные DWH\n",
    "def dwh_data_prep_adhoc(xdf, date_format):\n",
    "    df = xdf.copy()\n",
    "    df['date_valid'] = df['create_date'].apply(lambda x: validate_dates(x, date_format))\n",
    "    if(not df['date_valid'].values.all()):\n",
    "        incorrect_count = df[~df['date_valid']].shape[0]\n",
    "        print_ts(f'Не все даты прошли проверку. Будет удалено {incorrect_count} записей.')\n",
    "        save_df_to_csv(df[~df['date_valid']], PATH_OUTPUT, f'incorrect_dates__{incorrect_count}')\n",
    "        df = df[df['date_valid']]\n",
    "        \n",
    "    df['dwh_order_create_date'] = pd.to_datetime(df['create_date'], format=date_format)        \n",
    "    df['number_brand'] = df['number'].str.split('/', expand=True)[0]\n",
    "    df['dwh_order_id'] = df['number'].str.split('/', expand=True)[1]\n",
    "    df['dwh_order_sum'] = df['order_sum'].fillna('0')\n",
    "    df['dwh_order_sum'] = df['dwh_order_sum'].apply(lambda x: try_decimal(x))    \n",
    "    df.drop_duplicates(ignore_index=True, inplace=True)\n",
    "    brand_cond_v = [\n",
    "        df['site_name'].str.contains('budzdorov'),\n",
    "        df['site_name'].str.contains('rigla')\n",
    "    ]\n",
    "    brand_choises = ['budzdorov.ru', 'rigla.ru']\n",
    "    df['dwh_brand'] = np.select(brand_cond_v, brand_choises, default=None)\n",
    "    cols_to_use = [\n",
    "        'dwh_brand',\n",
    "        'dwh_order_create_date',\n",
    "        'dwh_order_id',\n",
    "        'dwh_order_sum'\n",
    "    ]\n",
    "    df = df[cols_to_use]\n",
    "    return df\n",
    "\n",
    "# Получаем данные AM (заказы для метчинга)\n",
    "def get_am_data_adhoc(path):\n",
    "    print_ts(f'Loading CSV - {path}')\n",
    "    df = pd.read_csv(path, dtype=object)\n",
    "    df.drop_duplicates(inplace=True, ignore_index=True)\n",
    "    # df['event_date'] = pd.to_datetime(df['event_date'], format='%Y-%m-%d %H:%M:%S\n",
    "    df['event_date'] = pd.to_datetime(df['event_date'], format='%Y-%m-%d')\n",
    "    df['event_datetime'] = pd.to_datetime(df['event_date'], format='%Y-%m-%d %H:%M:%S')\n",
    "    total_events = df.shape[0]\n",
    "    print_ts(f'Total events: {total_events}')\n",
    "    print_ts('Done!')\n",
    "    return df\n",
    "\n",
    "# Получаем данные DWH\n",
    "def get_dwh_data_adhoc(path_bz, path_rigla):\n",
    "    \n",
    "    print_ts('Подготавливаем данные BZ')\n",
    "    dwh_data_bz_raw = pd.read_csv(path_bz, sep=';', dtype=object)\n",
    "    dwh_data_bz = dwh_data_prep_adhoc(dwh_data_bz_raw, \"%Y-%m-%d\")\n",
    "    bz_events = dwh_data_bz.shape[0]\n",
    "    print_ts(f'Всего событий BZ: {bz_events}')\n",
    "\n",
    "\n",
    "    print_ts('Подготавливаем данные Rigla')\n",
    "    dwh_data_rigla_raw = pd.read_csv(path_rigla, sep=';', dtype=object)\n",
    "    dwh_data_rigla = dwh_data_prep_adhoc(dwh_data_rigla_raw, \"%Y-%m-%d\")\n",
    "    rigla_events = dwh_data_rigla.shape[0]\n",
    "    print_ts(f'Всего событий Rigla: {rigla_events}')\n",
    "\n",
    "    # Объединяем данные\n",
    "    dwh_data = pd.concat([dwh_data_bz, dwh_data_rigla])\n",
    "    print_ts(f'Строк данных DWH: {dwh_data.shape[0]}')\n",
    "    count_of_bz_rigla_unique = dwh_data[['dwh_brand','dwh_order_id']].drop_duplicates().shape[0]\n",
    "    print_ts(f'Уникальных заказов: {count_of_bz_rigla_unique}')    \n",
    "\n",
    "    df = dwh_data[(dwh_data['dwh_order_create_date']>=DWH_START_DATE) & (dwh_data['dwh_order_create_date']<=DWH_END_DATE)]\n",
    "    df.reset_index(drop=True, inplace=True)\n",
    "    print_ts('Всего записей DWH: {0}'.format(dwh_data.shape[0]))\n",
    "    print_ts('Отфильтровано по дате: {0}'.format(dwh_data.shape[0] - df.shape[0]))\n",
    "    print_ts('Использовано для отчётного периода записей: {0}'.format(df.shape[0]))\n",
    "    print_ts('')\n",
    "    print(df['dwh_order_create_date'].agg(['min','max']))    \n",
    "    \n",
    "    return df\n",
    "\n",
    "# Метчим данные: к данным AM привязываем DWH\n",
    "def get_am_dwh_joined_data(am_data, dwh_data):\n",
    "    print_ts('Метчим данные - к данным AM привязываем DWH')\n",
    "    am_dwh_orders = am_data.merge(dwh_data, how='left', left_on=['order_id','brand'], right_on=['dwh_order_id','dwh_brand'])\n",
    "    am_dwh_orders['am_unique'] = 1    \n",
    "    \n",
    "    # Добавляем разницу в днях\n",
    "    am_dwh_orders['dwh_am_diff_days'] = (am_dwh_orders['dwh_order_create_date'] - am_dwh_orders['event_date']).dt.days\n",
    "    \n",
    "    # Убираем лишние колонки\n",
    "    useful_columns = [\n",
    "        'am_unique',\n",
    "        'dwh_order_create_date', \n",
    "        'dwh_order_id',\n",
    "        'dwh_order_sum', \n",
    "        'dwh_brand', \n",
    "        'event_name', \n",
    "        'event_json',\n",
    "        'event_datetime', \n",
    "        'city', \n",
    "        'appmetrica_device_id',\n",
    "        'brand', \n",
    "        'order_id', \n",
    "        'total', \n",
    "        'publisher_name',\n",
    "        'tracker_name',\n",
    "        'is_reinstallation',\n",
    "        'event_date',\n",
    "        'event_month', \n",
    "        'dwh_am_diff_days'\n",
    "    ]\n",
    "    df = am_dwh_orders[useful_columns].copy()\n",
    "    df['total'] = df['total'].apply(lambda x: Decimal(x))\n",
    "    df['dwh_order_sum'] = df['dwh_order_sum'].apply(lambda x: Decimal(x))\n",
    "    \n",
    "    # Добавляем столбец с разницей по суммам\n",
    "    df['dwh_am_sum_diff'] = df['dwh_order_sum'] - df['total']    \n",
    "    \n",
    "    print_ts('OK!')\n",
    "    return df    "
   ]
  },
  {
   "cell_type": "code",
   "execution_count": 8,
   "id": "620ec32d",
   "metadata": {},
   "outputs": [
    {
     "name": "stdout",
     "output_type": "stream",
     "text": [
      "2024-06-11 17:07:55: Loading CSV - C:\\Rigla_BZ\\2024_June\\2024-06-09\\Output AM\\2024-06-11_170458_am_orders_for_dwh_matching_2024-06-01__2024-06-09.csv\n",
      "2024-06-11 17:07:59: Total events: 156506\n",
      "2024-06-11 17:07:59: Done!\n"
     ]
    }
   ],
   "source": [
    "# Получаем данные AM (заказы для метчинга)\n",
    "am_data_first_orders = get_am_data_adhoc(PATH_AM_ORDERS_FOR_MATCHING)"
   ]
  },
  {
   "cell_type": "code",
   "execution_count": 9,
   "id": "7cadd8db",
   "metadata": {},
   "outputs": [
    {
     "name": "stdout",
     "output_type": "stream",
     "text": [
      "<class 'pandas.core.frame.DataFrame'>\n",
      "RangeIndex: 156506 entries, 0 to 156505\n",
      "Data columns (total 57 columns):\n",
      " #   Column                      Non-Null Count   Dtype         \n",
      "---  ------                      --------------   -----         \n",
      " 0   application_id              156506 non-null  object        \n",
      " 1   app_build_number            156506 non-null  object        \n",
      " 2   ios_ifa                     13936 non-null   object        \n",
      " 3   ios_ifv                     52182 non-null   object        \n",
      " 4   android_id                  1 non-null       object        \n",
      " 5   google_aid                  96673 non-null   object        \n",
      " 6   profile_id                  150001 non-null  object        \n",
      " 7   os_name                     156506 non-null  object        \n",
      " 8   os_version                  156506 non-null  object        \n",
      " 9   device_manufacturer         156506 non-null  object        \n",
      " 10  device_model                156506 non-null  object        \n",
      " 11  device_type                 156506 non-null  object        \n",
      " 12  device_locale               156506 non-null  object        \n",
      " 13  device_ipv6                 156506 non-null  object        \n",
      " 14  app_version_name            156506 non-null  object        \n",
      " 15  app_package_name            156506 non-null  object        \n",
      " 16  event_name                  156506 non-null  object        \n",
      " 17  event_json                  156506 non-null  object        \n",
      " 18  event_datetime              156506 non-null  datetime64[ns]\n",
      " 19  event_timestamp             156506 non-null  object        \n",
      " 20  event_receive_datetime      156506 non-null  object        \n",
      " 21  event_receive_timestamp     156506 non-null  object        \n",
      " 22  connection_type             156506 non-null  object        \n",
      " 23  operator_name               103838 non-null  object        \n",
      " 24  original_device_model       156506 non-null  object        \n",
      " 25  mcc                         156506 non-null  object        \n",
      " 26  mnc                         156506 non-null  object        \n",
      " 27  country_iso_code            156416 non-null  object        \n",
      " 28  city                        56676 non-null   object        \n",
      " 29  appmetrica_device_id        156506 non-null  object        \n",
      " 30  installation_id             156506 non-null  object        \n",
      " 31  session_id                  156506 non-null  object        \n",
      " 32  windows_aid                 0 non-null       object        \n",
      " 33  file                        156506 non-null  object        \n",
      " 34  brand                       156506 non-null  object        \n",
      " 35  delivery                    156506 non-null  object        \n",
      " 36  total                       156505 non-null  object        \n",
      " 37  value_category              156506 non-null  object        \n",
      " 38  promo_code_applied          156506 non-null  object        \n",
      " 39  bonuses_utilized            156506 non-null  object        \n",
      " 40  order_id                    156505 non-null  object        \n",
      " 41  quantity                    155599 non-null  object        \n",
      " 42  basket_id                   22088 non-null   object        \n",
      " 43  pharmacy                    156505 non-null  object        \n",
      " 44  bonuses_amount              146480 non-null  object        \n",
      " 45  loyalty_program             146480 non-null  object        \n",
      " 46  product_list                155599 non-null  object        \n",
      " 47  value                       1 non-null       object        \n",
      " 48  brand_install               17176 non-null   object        \n",
      " 49  publisher_name              156506 non-null  object        \n",
      " 50  tracker_name                17176 non-null   object        \n",
      " 51  install_datetime            17176 non-null   object        \n",
      " 52  is_reinstallation           156506 non-null  object        \n",
      " 53  event_date                  156506 non-null  datetime64[ns]\n",
      " 54  event_month                 156506 non-null  object        \n",
      " 55  is_suitable_order_in_month  156506 non-null  object        \n",
      " 56  am_unique_orders            156506 non-null  object        \n",
      "dtypes: datetime64[ns](2), object(55)\n",
      "memory usage: 68.1+ MB\n"
     ]
    }
   ],
   "source": [
    "am_data_first_orders.info()"
   ]
  },
  {
   "cell_type": "code",
   "execution_count": 10,
   "id": "8a8015ae-7985-40df-81ad-bfd12a1af8e0",
   "metadata": {},
   "outputs": [
    {
     "data": {
      "text/plain": [
       "application_id                                                          3412045\n",
       "app_build_number                                                          20275\n",
       "ios_ifa                                                                     NaN\n",
       "ios_ifv                                                                     NaN\n",
       "android_id                                                                  NaN\n",
       "google_aid                                                                  NaN\n",
       "profile_id                                                              1294177\n",
       "os_name                                                                 android\n",
       "os_version                                                                   14\n",
       "device_manufacturer                                                     Samsung\n",
       "device_model                                                      Galaxy A73 5G\n",
       "device_type                                                               phone\n",
       "device_locale                                                             ru_RU\n",
       "device_ipv6                                                 ::ffff:176.59.2.193\n",
       "app_version_name                                                         2.26.1\n",
       "app_package_name                                    ru.budzdorov.client.android\n",
       "event_name                                                       order_complete\n",
       "event_json                    {\"delivery\":\"pick-up\",\"total\":891,\"value_categ...\n",
       "event_datetime                                              2024-06-02 00:00:00\n",
       "event_timestamp                                                      1717324562\n",
       "event_receive_datetime                                      2024-06-04 08:33:46\n",
       "event_receive_timestamp                                              1717479226\n",
       "connection_type                                                            wifi\n",
       "operator_name                                                             Tele2\n",
       "original_device_model                                                  SM-A736B\n",
       "mcc                                                                         250\n",
       "mnc                                                                          20\n",
       "country_iso_code                                                             RU\n",
       "city                                                                        NaN\n",
       "appmetrica_device_id                                       15331038725286791027\n",
       "installation_id                                7d267ae29f4f46ae81538e1e4b2259f3\n",
       "session_id                                                          10000000518\n",
       "windows_aid                                                                 NaN\n",
       "file                          C:\\Rigla_BZ\\2024_June\\2024-06-09\\AM\\BZ\\Events\\...\n",
       "brand                                                              budzdorov.ru\n",
       "delivery                                                                pick-up\n",
       "total                                                                     891.0\n",
       "value_category                                                           1-1000\n",
       "promo_code_applied                                                            N\n",
       "bonuses_utilized                                                              N\n",
       "order_id                                                            24000312830\n",
       "quantity                                                                    1.0\n",
       "basket_id                                                                   NaN\n",
       "pharmacy                                                                  10150\n",
       "bonuses_amount                                                        undefined\n",
       "loyalty_program                                                    sber_spasibo\n",
       "product_list                  [{'name': 'Синупрет капли 100мл', 'sku': '2775...\n",
       "value                                                                       NaN\n",
       "brand_install                                                               NaN\n",
       "publisher_name                                                PUBLISHER_UNKNOWN\n",
       "tracker_name                                                                NaN\n",
       "install_datetime                                                            NaN\n",
       "is_reinstallation                                                         false\n",
       "event_date                                                  2024-06-02 00:00:00\n",
       "event_month                                                             2024-06\n",
       "is_suitable_order_in_month                                                 True\n",
       "am_unique_orders                                                              1\n",
       "Name: 0, dtype: object"
      ]
     },
     "execution_count": 10,
     "metadata": {},
     "output_type": "execute_result"
    }
   ],
   "source": [
    "am_data_first_orders.iloc[0]"
   ]
  },
  {
   "cell_type": "code",
   "execution_count": 11,
   "id": "3ea5e3b8",
   "metadata": {},
   "outputs": [
    {
     "name": "stdout",
     "output_type": "stream",
     "text": [
      "2024-06-11 17:08:15: Подготавливаем данные BZ\n",
      "2024-06-11 17:08:17: Всего событий BZ: 167438\n",
      "2024-06-11 17:08:17: Подготавливаем данные Rigla\n",
      "2024-06-11 17:08:18: Всего событий Rigla: 106014\n",
      "2024-06-11 17:08:18: Строк данных DWH: 273452\n",
      "2024-06-11 17:08:18: Уникальных заказов: 273442\n",
      "2024-06-11 17:08:18: Всего записей DWH: 273452\n",
      "2024-06-11 17:08:18: Отфильтровано по дате: 71\n",
      "2024-06-11 17:08:18: Использовано для отчётного периода записей: 273381\n",
      "2024-06-11 17:08:18: \n",
      "min   2024-06-01\n",
      "max   2024-06-09\n",
      "Name: dwh_order_create_date, dtype: datetime64[ns]\n"
     ]
    }
   ],
   "source": [
    "# Получаем данные DWH\n",
    "dwh_data_subset = get_dwh_data_adhoc(PATH_DWH_BZ, PATH_DWH_RIGLA)"
   ]
  },
  {
   "cell_type": "code",
   "execution_count": 12,
   "id": "9397b904",
   "metadata": {},
   "outputs": [
    {
     "name": "stdout",
     "output_type": "stream",
     "text": [
      "2024-06-11 17:08:32: Метчим данные - к данным AM привязываем DWH\n",
      "2024-06-11 17:08:32: OK!\n"
     ]
    }
   ],
   "source": [
    "# Метчим данные: к данным AM привязываем DWH\n",
    "am_dwh_orders_short = get_am_dwh_joined_data(am_data_first_orders, dwh_data_subset)"
   ]
  },
  {
   "cell_type": "code",
   "execution_count": 13,
   "id": "c334dd0f",
   "metadata": {},
   "outputs": [
    {
     "name": "stdout",
     "output_type": "stream",
     "text": [
      "2024-06-11 17:08:35: Выставляем флаги условий\n",
      "2024-06-11 17:08:35: OK!\n"
     ]
    }
   ],
   "source": [
    "# Выставляем флаги условий\n",
    "task_conds_df = set_conditions(am_dwh_orders_short)"
   ]
  },
  {
   "cell_type": "code",
   "execution_count": 14,
   "id": "b961fc8b-6ada-4ed1-b3e4-9bf1635a47b5",
   "metadata": {},
   "outputs": [],
   "source": [
    "use_columns = [\n",
    "    'am_unique','brand', 'publisher_name','event_month',\n",
    "    'dwh_am_diff_days', 'dwh_am_order_id_equal',\n",
    "    'dwh_am_order_id_date_equal', 'dwh_am_order_id_sum_equal',\n",
    "    'dwh_am_order_id_date_sum_equal', 'am_is_reinstallation',\n",
    "    'dwh_am_order_id_equal__am_is_reinstallation',\n",
    "    'dwh_am_order_id_date_equal__am_is_reinstallation',\n",
    "    'dwh_am_order_id_sum_equal__am_is_reinstallation',\n",
    "    'dwh_am_order_id_date_sum_equal__am_is_reinstallation']\n",
    "xdf = task_conds_df[use_columns].copy()"
   ]
  },
  {
   "cell_type": "code",
   "execution_count": 15,
   "id": "bc3a4a8b",
   "metadata": {},
   "outputs": [],
   "source": [
    "# Делаем сводную\n",
    "task_conds_df_sum = xdf.groupby(['event_month', 'brand', 'publisher_name'], as_index=False, dropna=False).sum()\n",
    "task_conds_df_sum.drop(['dwh_am_diff_days'], axis=1, inplace=True)"
   ]
  },
  {
   "cell_type": "code",
   "execution_count": 16,
   "id": "d75e4237",
   "metadata": {},
   "outputs": [
    {
     "name": "stdout",
     "output_type": "stream",
     "text": [
      "2024-06-11 17:08:45: dataFrame saved to C:\\Rigla_BZ\\2024_June\\2024-06-09\\Output dwh-am\\2024-06-11_170843_task_conds.csv\n"
     ]
    }
   ],
   "source": [
    "save_df_to_csv(task_conds_df, PATH_OUTPUT, 'task_conds')"
   ]
  },
  {
   "cell_type": "code",
   "execution_count": 17,
   "id": "e3d82216",
   "metadata": {},
   "outputs": [
    {
     "name": "stdout",
     "output_type": "stream",
     "text": [
      "2024-06-11 17:08:45: dataFrame saved to C:\\Rigla_BZ\\2024_June\\2024-06-09\\Output dwh-am\\2024-06-11_170845_task_conds_agg.csv\n"
     ]
    }
   ],
   "source": [
    "save_df_to_csv(task_conds_df_sum, PATH_OUTPUT, 'task_conds_agg')"
   ]
  }
 ],
 "metadata": {
  "kernelspec": {
   "display_name": "Python 3 (ipykernel)",
   "language": "python",
   "name": "python3"
  },
  "language_info": {
   "codemirror_mode": {
    "name": "ipython",
    "version": 3
   },
   "file_extension": ".py",
   "mimetype": "text/x-python",
   "name": "python",
   "nbconvert_exporter": "python",
   "pygments_lexer": "ipython3",
   "version": "3.11.7"
  }
 },
 "nbformat": 4,
 "nbformat_minor": 5
}
